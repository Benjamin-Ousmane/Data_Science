{
 "metadata": {
  "language_info": {
   "codemirror_mode": {
    "name": "ipython",
    "version": 3
   },
   "file_extension": ".py",
   "mimetype": "text/x-python",
   "name": "python",
   "nbconvert_exporter": "python",
   "pygments_lexer": "ipython3",
   "version": "3.8.8"
  },
  "orig_nbformat": 2,
  "kernelspec": {
   "name": "python388jvsc74a57bd0c7101ef4b34dd94cdfae34e8895084bfbdf7b072e0ad0aa0b23dd42cc453a76b",
   "display_name": "Python 3.8.8 64-bit ('base': conda)"
  }
 },
 "nbformat": 4,
 "nbformat_minor": 2,
 "cells": [
  {
   "cell_type": "code",
   "execution_count": 170,
   "metadata": {},
   "outputs": [],
   "source": [
    "## Check Machine Learnia youtube channel : https://www.youtube.com/playlist?list=PLO_fdPEVlfKqMDNmCFzQISI2H_nJcEDJq"
   ]
  },
  {
   "source": [
    "#  Dictionaries"
   ],
   "cell_type": "markdown",
   "metadata": {}
  },
  {
   "cell_type": "code",
   "execution_count": 171,
   "metadata": {},
   "outputs": [
    {
     "output_type": "execute_result",
     "data": {
      "text/plain": [
       "{'Ronaldo': 30, 'Messi': 30, 'Mbappe': 26, 'Lukaku': 24}"
      ]
     },
     "metadata": {},
     "execution_count": 171
    }
   ],
   "source": [
    "# create dictionary\n",
    "goals = {\n",
    "    \"Ronaldo\": 30,\n",
    "    \"Messi\":30,\n",
    "    \"Mbappe\": 26,\n",
    "    \"Lukaku\": 24,\n",
    "}\n",
    "goals"
   ]
  },
  {
   "cell_type": "code",
   "execution_count": 172,
   "metadata": {},
   "outputs": [
    {
     "output_type": "execute_result",
     "data": {
      "text/plain": [
       "dict_values([30, 30, 26, 24])"
      ]
     },
     "metadata": {},
     "execution_count": 172
    }
   ],
   "source": [
    "# get values\n",
    "goals.values()"
   ]
  },
  {
   "cell_type": "code",
   "execution_count": 173,
   "metadata": {},
   "outputs": [
    {
     "output_type": "execute_result",
     "data": {
      "text/plain": [
       "dict_keys(['Ronaldo', 'Messi', 'Mbappe', 'Lukaku'])"
      ]
     },
     "metadata": {},
     "execution_count": 173
    }
   ],
   "source": [
    "# get keys\n",
    "goals.keys()"
   ]
  },
  {
   "cell_type": "code",
   "execution_count": 174,
   "metadata": {},
   "outputs": [
    {
     "output_type": "execute_result",
     "data": {
      "text/plain": [
       "4"
      ]
     },
     "metadata": {},
     "execution_count": 174
    }
   ],
   "source": [
    "# get dictionary lenght\n",
    "len(goals)"
   ]
  },
  {
   "cell_type": "code",
   "execution_count": 175,
   "metadata": {},
   "outputs": [
    {
     "output_type": "execute_result",
     "data": {
      "text/plain": [
       "{'Ronaldo': 30, 'Messi': 30, 'Mbappe': 26, 'Lukaku': 24, 'Mane': 22}"
      ]
     },
     "metadata": {},
     "execution_count": 175
    }
   ],
   "source": [
    "# add an association in the dictionary\n",
    "goals[\"Mane\"] = 22\n",
    "goals"
   ]
  },
  {
   "cell_type": "code",
   "execution_count": 176,
   "metadata": {},
   "outputs": [
    {
     "output_type": "stream",
     "name": "stdout",
     "text": [
      "26\nNone\n"
     ]
    }
   ],
   "source": [
    "# get a value\n",
    "print(goals.get('Mbappe'))\n",
    "print(goals.get('Hazard'))"
   ]
  },
  {
   "cell_type": "code",
   "execution_count": 177,
   "metadata": {},
   "outputs": [
    {
     "output_type": "stream",
     "name": "stdout",
     "text": [
      "22\n{'Ronaldo': 30, 'Messi': 30, 'Mbappe': 26, 'Lukaku': 24}\n"
     ]
    }
   ],
   "source": [
    "# remove an association and get the value\n",
    "mane_Goals = goals.pop('Mane')\n",
    "print(mane_Goals)\n",
    "print(goals)"
   ]
  },
  {
   "cell_type": "code",
   "execution_count": 178,
   "metadata": {},
   "outputs": [
    {
     "output_type": "execute_result",
     "data": {
      "text/plain": [
       "{'Liverpool': 'default',\n",
       " 'City': 'default',\n",
       " 'PSG': 'default',\n",
       " 'Bayern': 'default'}"
      ]
     },
     "metadata": {},
     "execution_count": 178
    }
   ],
   "source": [
    "# create a dictionary with a list\n",
    "list_teams = ('Liverpool', 'City', 'PSG', 'Bayern')\n",
    "teams = {}\n",
    "teams.fromkeys(list_teams, 'default')"
   ]
  },
  {
   "cell_type": "code",
   "execution_count": 179,
   "metadata": {},
   "outputs": [
    {
     "output_type": "stream",
     "name": "stdout",
     "text": [
      "Ronaldo\nMessi\nMbappe\nLukaku\n"
     ]
    }
   ],
   "source": [
    "# iterate on keys\n",
    "for i in goals:\n",
    "    print(i)"
   ]
  },
  {
   "cell_type": "code",
   "execution_count": 180,
   "metadata": {},
   "outputs": [
    {
     "output_type": "stream",
     "name": "stdout",
     "text": [
      "30\n30\n26\n24\n"
     ]
    }
   ],
   "source": [
    "# iterate on values\n",
    "for i in goals.values():\n",
    "    print(i)"
   ]
  },
  {
   "cell_type": "code",
   "execution_count": 181,
   "metadata": {},
   "outputs": [
    {
     "output_type": "stream",
     "name": "stdout",
     "text": [
      "Ronaldo 30\nMessi 30\nMbappe 26\nLukaku 24\n"
     ]
    }
   ],
   "source": [
    "# iterate on both keys and values\n",
    "for k, v in goals.items():\n",
    "    print(k, v)"
   ]
  },
  {
   "source": [
    "## Exercise"
   ],
   "cell_type": "code",
   "metadata": {},
   "execution_count": 182,
   "outputs": []
  },
  {
   "cell_type": "code",
   "execution_count": 183,
   "metadata": {},
   "outputs": [],
   "source": [
    "dict_test = {\n",
    "    \"positive\": [],\n",
    "    \"negative\": [],\n",
    "}"
   ]
  },
  {
   "cell_type": "code",
   "execution_count": 184,
   "metadata": {},
   "outputs": [],
   "source": [
    "def sort(dic, number):\n",
    "    if number<0 :\n",
    "        dic[\"negative\"].append(number)\n",
    "    else:        \n",
    "        dic[\"positive\"].append(number)"
   ]
  },
  {
   "cell_type": "code",
   "execution_count": 185,
   "metadata": {},
   "outputs": [
    {
     "output_type": "stream",
     "name": "stdout",
     "text": [
      "{'positive': [2], 'negative': []}\n"
     ]
    }
   ],
   "source": [
    "sort(dict_test, 2)\n",
    "print(dict_test)"
   ]
  },
  {
   "cell_type": "code",
   "execution_count": 186,
   "metadata": {},
   "outputs": [
    {
     "output_type": "stream",
     "name": "stdout",
     "text": [
      "{'positive': [2, 4], 'negative': []}\n"
     ]
    }
   ],
   "source": [
    "sort(dict_test, 4)\n",
    "print(dict_test)"
   ]
  },
  {
   "cell_type": "code",
   "execution_count": 187,
   "metadata": {},
   "outputs": [
    {
     "output_type": "stream",
     "name": "stdout",
     "text": [
      "{'positive': [2, 4], 'negative': [-10]}\n"
     ]
    }
   ],
   "source": [
    "sort(dict_test, -10)\n",
    "print(dict_test)"
   ]
  },
  {
   "cell_type": "code",
   "execution_count": 188,
   "metadata": {},
   "outputs": [
    {
     "output_type": "stream",
     "name": "stdout",
     "text": [
      "{'positive': [2, 4], 'negative': [-10, -8]}\n"
     ]
    }
   ],
   "source": [
    "sort(dict_test, -8)\n",
    "print(dict_test)"
   ]
  },
  {
   "source": [
    "# List/dict comprehension"
   ],
   "cell_type": "markdown",
   "metadata": {}
  },
  {
   "cell_type": "code",
   "execution_count": 189,
   "metadata": {},
   "outputs": [
    {
     "output_type": "stream",
     "name": "stdout",
     "text": [
      "[0, 1, 4, 9, 16, 25, 36, 49, 64, 81]\n"
     ]
    }
   ],
   "source": [
    "list_1 = []\n",
    "for i in range(10):\n",
    "    list_1.append(i**2)\n",
    "\n",
    "print(list_1)"
   ]
  },
  {
   "cell_type": "code",
   "execution_count": 190,
   "metadata": {},
   "outputs": [],
   "source": [
    "## List comprehension"
   ]
  },
  {
   "cell_type": "code",
   "execution_count": 191,
   "metadata": {},
   "outputs": [
    {
     "output_type": "stream",
     "name": "stdout",
     "text": [
      "[0, 1, 4, 9, 16, 25, 36, 49, 64, 81]\n"
     ]
    }
   ],
   "source": [
    "list_2 = [i**2 for i in range(10)]\n",
    "print(list_2)"
   ]
  },
  {
   "cell_type": "code",
   "execution_count": 192,
   "metadata": {},
   "outputs": [
    {
     "output_type": "stream",
     "name": "stdout",
     "text": [
      "[[0, 1, 2], [0, 1, 2], [0, 1, 2], [0, 1, 2]]\n"
     ]
    }
   ],
   "source": [
    "list_3 = [[i for i in range(3)] for j in range(4)]\n",
    "print(list_3)"
   ]
  },
  {
   "cell_type": "code",
   "execution_count": 193,
   "metadata": {},
   "outputs": [],
   "source": [
    "## Dict comprehension"
   ]
  },
  {
   "cell_type": "code",
   "execution_count": 194,
   "metadata": {},
   "outputs": [
    {
     "output_type": "stream",
     "name": "stdout",
     "text": [
      "{0: 'DeBruyne', 1: 'Lemar', 2: 'De Jong', 3: 'Meunier'}\n"
     ]
    }
   ],
   "source": [
    "players = ['DeBruyne', 'Lemar', 'De Jong', 'Meunier']\n",
    "\n",
    "dict_1 = {k:v for k,v in enumerate(players)}\n",
    "print(dict_1)"
   ]
  },
  {
   "cell_type": "code",
   "execution_count": 195,
   "metadata": {},
   "outputs": [
    {
     "output_type": "stream",
     "name": "stdout",
     "text": [
      "{'Lemar': 32, 'De Jong': 34}\n"
     ]
    }
   ],
   "source": [
    "ages = [24, 32, 34, 21]\n",
    "\n",
    "dict_2 = {player:age for player, age in zip(players, ages) if age > 30}\n",
    "print(dict_2)"
   ]
  },
  {
   "cell_type": "code",
   "execution_count": 196,
   "metadata": {},
   "outputs": [],
   "source": [
    "## Tuple comprehension"
   ]
  },
  {
   "cell_type": "code",
   "execution_count": 198,
   "metadata": {},
   "outputs": [
    {
     "output_type": "execute_result",
     "data": {
      "text/plain": [
       "(0, 1, 4, 9, 16, 25, 36, 49, 64, 81)"
      ]
     },
     "metadata": {},
     "execution_count": 198
    }
   ],
   "source": [
    "tuple_1 = tuple((i**2 for i in range(10)))\n",
    "tuple_1"
   ]
  },
  {
   "cell_type": "code",
   "execution_count": 199,
   "metadata": {},
   "outputs": [],
   "source": [
    "## exercise"
   ]
  },
  {
   "cell_type": "code",
   "execution_count": 201,
   "metadata": {},
   "outputs": [
    {
     "output_type": "stream",
     "name": "stdout",
     "text": [
      "{0: 0, 1: 1, 2: 4, 3: 9, 4: 16, 5: 25, 6: 36, 7: 49, 8: 64, 9: 81, 10: 100, 11: 121, 12: 144, 13: 169, 14: 196, 15: 225, 16: 256, 17: 289, 18: 324, 19: 361}\n"
     ]
    }
   ],
   "source": [
    "dict_3 = {k:k**2 for k in range(20)}\n",
    "print(dict_3)"
   ]
  }
 ]
}