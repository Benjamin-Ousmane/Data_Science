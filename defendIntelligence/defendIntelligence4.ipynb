{
 "metadata": {
  "language_info": {
   "codemirror_mode": {
    "name": "ipython",
    "version": 3
   },
   "file_extension": ".py",
   "mimetype": "text/x-python",
   "name": "python",
   "nbconvert_exporter": "python",
   "pygments_lexer": "ipython3",
   "version": "3.8.8"
  },
  "orig_nbformat": 2,
  "kernelspec": {
   "name": "python388jvsc74a57bd0c7101ef4b34dd94cdfae34e8895084bfbdf7b072e0ad0aa0b23dd42cc453a76b",
   "display_name": "Python 3.8.8 64-bit ('base': conda)"
  }
 },
 "nbformat": 4,
 "nbformat_minor": 2,
 "cells": [
  {
   "cell_type": "code",
   "execution_count": 4,
   "metadata": {},
   "outputs": [
    {
     "output_type": "stream",
     "name": "stdout",
     "text": [
      "Lion\n"
     ]
    },
    {
     "output_type": "error",
     "ename": "AttributeError",
     "evalue": "'Animal' object has no attribute '__race'",
     "traceback": [
      "\u001b[1;31m---------------------------------------------------------------------------\u001b[0m",
      "\u001b[1;31mAttributeError\u001b[0m                            Traceback (most recent call last)",
      "\u001b[1;32m<ipython-input-4-bb6bed566a5f>\u001b[0m in \u001b[0;36m<module>\u001b[1;34m\u001b[0m\n\u001b[0;32m     10\u001b[0m \u001b[1;33m\u001b[0m\u001b[0m\n\u001b[0;32m     11\u001b[0m \u001b[0mprint\u001b[0m\u001b[1;33m(\u001b[0m\u001b[0mToto\u001b[0m\u001b[1;33m.\u001b[0m\u001b[0mrace\u001b[0m\u001b[1;33m)\u001b[0m\u001b[1;33m\u001b[0m\u001b[1;33m\u001b[0m\u001b[0m\n\u001b[1;32m---> 12\u001b[1;33m \u001b[0mprint\u001b[0m\u001b[1;33m(\u001b[0m\u001b[0mToto\u001b[0m\u001b[1;33m.\u001b[0m\u001b[0m__race\u001b[0m\u001b[1;33m)\u001b[0m\u001b[1;33m\u001b[0m\u001b[1;33m\u001b[0m\u001b[0m\n\u001b[0m",
      "\u001b[1;31mAttributeError\u001b[0m: 'Animal' object has no attribute '__race'"
     ]
    }
   ],
   "source": [
    "### Tutorial from Defend Intelligence youtube channel\n",
    "\n",
    "## private attribute : __attribute\n",
    "\n",
    "class Animal:\n",
    "\n",
    "    def __init__(self,race):\n",
    "        self.__race = race\n",
    "        self.race = race\n",
    "\n",
    "Toto = Animal('Lion') # Instance of the class Animal\n",
    "\n",
    "print(Toto.race) # race is public\n",
    "print(Toto.__race) # __race is private"
   ]
  },
  {
   "cell_type": "code",
   "execution_count": 8,
   "metadata": {},
   "outputs": [
    {
     "output_type": "stream",
     "name": "stdout",
     "text": [
      "Lion\nTiger\n"
     ]
    }
   ],
   "source": [
    "## define setters and getters : get_race(self) / set_attribut(self,attribute)\n",
    "class Animal:\n",
    "\n",
    "    def __init__(self,race):\n",
    "        self.__race = race\n",
    "    \n",
    "    def get_race(self):\n",
    "        return self.__race\n",
    "    \n",
    "    def set_race(self,race):\n",
    "        self.__race = race\n",
    "        return\n",
    "\n",
    "Toto = Animal('Lion') # Instance of the class Animal\n",
    "\n",
    "print(Toto.get_race())\n",
    "Toto.set_race('Tiger')\n",
    "print(Toto.get_race())\n"
   ]
  },
  {
   "cell_type": "code",
   "execution_count": 8,
   "metadata": {},
   "outputs": [
    {
     "output_type": "stream",
     "name": "stdout",
     "text": [
      "bleu\nI ate meat\n"
     ]
    }
   ],
   "source": [
    "# Inheritance : super()\n",
    "\n",
    "class Feline:\n",
    "    def __init__(self,color):\n",
    "        self.__color = color\n",
    "    \n",
    "    def get_color(self):\n",
    "        return self.__color\n",
    "    \n",
    "    def set_color(self,color):\n",
    "        self.__color = color\n",
    "        return\n",
    "\n",
    "    def eat(self):\n",
    "        print('I eat meat')\n",
    "\n",
    "class Lion(Feline): # Child class of Animal\n",
    "    def __init__(self,color, race,name):\n",
    "        super().__init__(color)\n",
    "        self.__race = race\n",
    "        self.name = name\n",
    "    \n",
    "    def get_race(self):\n",
    "        return self.__race\n",
    "    \n",
    "    def set_race(self,race):\n",
    "        self.__race = race\n",
    "        return\n",
    "\n",
    "gerard_the_lion = Lion('bleu', 'mountain Lion', 'gerard')\n",
    "print(gerard_the_lion.get_color())\n",
    "gerard_the_lion.eat()\n"
   ]
  },
  {
   "cell_type": "code",
   "execution_count": 12,
   "metadata": {},
   "outputs": [
    {
     "output_type": "stream",
     "name": "stdout",
     "text": [
      "4 4\n3 3\n"
     ]
    }
   ],
   "source": [
    "## class attribute\n",
    "\n",
    "class Feline:\n",
    "    nlegs = 4 # class attribute\n",
    "    carnivor = True # class attribute\n",
    "\n",
    "    def __init__(self,color):\n",
    "        self.__color = color\n",
    "    \n",
    "    def get_color(self):\n",
    "        return self.__color\n",
    "    \n",
    "    def set_color(self,color):\n",
    "        self.__color = color\n",
    "        return\n",
    "\n",
    "    def eat(self):\n",
    "        print('I eat meat')\n",
    "\n",
    "class Lion(Feline): # Child class of Animal\n",
    "    def __init__(self,color, race,name):\n",
    "        super().__init__(color)\n",
    "        self.__race = race\n",
    "        self.name = name\n",
    "    \n",
    "    def get_race(self):\n",
    "        return self.__race\n",
    "    \n",
    "    def set_race(self,race):\n",
    "        self.__race = race\n",
    "        return\n",
    "\n",
    "gerard_the_lion = Lion('white', 'savanna Lion', 'gerard')\n",
    "hakim_the_lion = Lion('brown', 'mountain Lion', 'hakim')\n",
    "\n",
    "print(gerard_the_lion.nlegs, hakim_the_lion.nlegs)\n",
    "\n",
    "Feline.nlegs = 3 # change the attribute in all instance\n",
    "\n",
    "print(gerard_the_lion.nlegs, hakim_the_lion.nlegs)\n"
   ]
  },
  {
   "cell_type": "code",
   "execution_count": 18,
   "metadata": {},
   "outputs": [
    {
     "output_type": "stream",
     "name": "stdout",
     "text": [
      "100 100\n90 90\n12\n"
     ]
    }
   ],
   "source": [
    "## class method and static method\n",
    "\n",
    "class Feline:\n",
    "    nlegs = 4 # class attribute\n",
    "    carnivor = True # class attribute\n",
    "    energy = 100\n",
    "\n",
    "    def __init__(self,color): # constructor of instance attributes\n",
    "        self.__color = color\n",
    "    \n",
    "    def get_color(self):\n",
    "        return self.__color\n",
    "    \n",
    "    def set_color(self,color):\n",
    "        self.__color = color\n",
    "        return\n",
    "\n",
    "    def eat(self):\n",
    "        print('I eat meat')\n",
    "\n",
    "    @classmethod  # decorator for a class method\n",
    "    def all_felines_run(cls): # use 'cls'\n",
    "        # class methods have only access to class attribute\n",
    "        cls.energy = cls.energy - 10\n",
    "\n",
    "    @staticmethod # decorator for a static method \n",
    "    def calcul_number_feline(nLion, nTiger): # no need of 'self' or 'cls'\n",
    "        # static methods can neither modify object state nor class state\n",
    "        return nLion + nTiger\n",
    "\n",
    "class Lion(Feline): # Child class of Animal\n",
    "    def __init__(self,color,race,name):\n",
    "        super().__init__(color)\n",
    "        self.__race = race\n",
    "        self.name = name\n",
    "    \n",
    "    def get_race(self):\n",
    "        return self.__race\n",
    "    \n",
    "    def set_race(self,race):\n",
    "        self.__race = race\n",
    "        return\n",
    "\n",
    "gerard_the_lion = Lion('white', 'savanna Lion', 'gerard')\n",
    "hakim_the_lion = Lion('brown', 'mountain Lion', 'hakim')\n",
    "\n",
    "print(gerard_the_lion.energy, hakim_the_lion.energy)\n",
    "\n",
    "Feline.all_felines_run() \n",
    "\n",
    "print(gerard_the_lion.energy, hakim_the_lion.energy)\n",
    "\n",
    "print(Feline.calcul_number_feline(5,7))\n"
   ]
  },
  {
   "cell_type": "code",
   "execution_count": 23,
   "metadata": {},
   "outputs": [
    {
     "output_type": "execute_result",
     "data": {
      "text/plain": [
       "['__class__',\n",
       " '__delattr__',\n",
       " '__dict__',\n",
       " '__dir__',\n",
       " '__doc__',\n",
       " '__eq__',\n",
       " '__format__',\n",
       " '__ge__',\n",
       " '__getattribute__',\n",
       " '__gt__',\n",
       " '__hash__',\n",
       " '__init__',\n",
       " '__init_subclass__',\n",
       " '__le__',\n",
       " '__lt__',\n",
       " '__module__',\n",
       " '__ne__',\n",
       " '__new__',\n",
       " '__reduce__',\n",
       " '__reduce_ex__',\n",
       " '__repr__',\n",
       " '__setattr__',\n",
       " '__sizeof__',\n",
       " '__str__',\n",
       " '__subclasshook__',\n",
       " '__weakref__',\n",
       " 'all_felines_run',\n",
       " 'calcul_number_feline',\n",
       " 'carnivor',\n",
       " 'eat',\n",
       " 'energy',\n",
       " 'get_color',\n",
       " 'nlegs',\n",
       " 'set_color']"
      ]
     },
     "metadata": {},
     "execution_count": 23
    }
   ],
   "source": [
    "## dir function \n",
    "\n",
    "dir(Feline) # show all attributes and methods of a class"
   ]
  },
  {
   "cell_type": "code",
   "execution_count": 24,
   "metadata": {},
   "outputs": [
    {
     "output_type": "execute_result",
     "data": {
      "text/plain": [
       "{'_Feline__color': 'white', '_Lion__race': 'savanna Lion', 'name': 'gerard'}"
      ]
     },
     "metadata": {},
     "execution_count": 24
    }
   ],
   "source": [
    "## __dict__ attribute \n",
    "\n",
    "gerard_the_lion.__dict__ # show all attributes of an instance in a dictionnary type"
   ]
  },
  {
   "cell_type": "code",
   "execution_count": 29,
   "metadata": {},
   "outputs": [
    {
     "output_type": "stream",
     "name": "stdout",
     "text": [
      "True\nFalse\nTrue\n"
     ]
    }
   ],
   "source": [
    "## isinstance(instance, class) & issubclass(subclass, class)\n",
    "\n",
    "print(isinstance(gerard_the_lion, Lion))  # return boolean\n",
    "print(issubclass(Feline, Lion))   # return boolean\n",
    "print(issubclass(Lion, Feline ))"
   ]
  }
 ]
}