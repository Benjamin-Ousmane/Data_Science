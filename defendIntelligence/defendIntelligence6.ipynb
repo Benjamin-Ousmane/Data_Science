{
 "metadata": {
  "language_info": {
   "codemirror_mode": {
    "name": "ipython",
    "version": 3
   },
   "file_extension": ".py",
   "mimetype": "text/x-python",
   "name": "python",
   "nbconvert_exporter": "python",
   "pygments_lexer": "ipython3",
   "version": "3.8.8"
  },
  "orig_nbformat": 2,
  "kernelspec": {
   "name": "python388jvsc74a57bd0c7101ef4b34dd94cdfae34e8895084bfbdf7b072e0ad0aa0b23dd42cc453a76b",
   "display_name": "Python 3.8.8 64-bit ('base': conda)"
  }
 },
 "nbformat": 4,
 "nbformat_minor": 2,
 "cells": [
  {
   "cell_type": "code",
   "execution_count": 1,
   "metadata": {},
   "outputs": [],
   "source": [
    "### Tutorial from Defend Intelligence youtube channel\n",
    "\n",
    "## NUMPY\n",
    "\n",
    "import numpy as np"
   ]
  },
  {
   "cell_type": "code",
   "execution_count": 4,
   "metadata": {},
   "outputs": [
    {
     "output_type": "execute_result",
     "data": {
      "text/plain": [
       "array([1, 2, 3])"
      ]
     },
     "metadata": {},
     "execution_count": 4
    }
   ],
   "source": [
    "np.array([1,2,3])"
   ]
  },
  {
   "cell_type": "code",
   "execution_count": 20,
   "metadata": {},
   "outputs": [
    {
     "output_type": "stream",
     "name": "stdout",
     "text": [
      "[0 1 2 3 4 5 6 7 8 9]\n\n[[0 1 2]\n [3 4 5]\n [6 7 8]]\n\n[[0 1]\n [2 3]\n [4 5]\n [6 7]]\n\n[[0 1 2 3]\n [4 5 6 7]]\n"
     ]
    }
   ],
   "source": [
    "#np.arange\n",
    "print(np.arange(10))\n",
    "print()\n",
    "print(np.arange(9).reshape(3,3))\n",
    "print()\n",
    "print(np.arange(8).reshape(4,2))\n",
    "print()\n",
    "print(np.arange(8).reshape(2,4))"
   ]
  },
  {
   "cell_type": "code",
   "execution_count": 19,
   "metadata": {},
   "outputs": [
    {
     "output_type": "stream",
     "name": "stdout",
     "text": [
      "[[0. 0.]\n [0. 0.]\n [0. 0.]]\n\n[[1. 1. 1. 1. 1. 1.]\n [1. 1. 1. 1. 1. 1.]\n [1. 1. 1. 1. 1. 1.]\n [1. 1. 1. 1. 1. 1.]]\n\n[[1. 0.]\n [0. 1.]\n [0. 0.]]\n"
     ]
    }
   ],
   "source": [
    "## zeros, ones, eyes\n",
    "print(np.zeros((3,2)))\n",
    "print()\n",
    "print(np.ones((4,6)))\n",
    "print()\n",
    "print(np.eye(3,2))"
   ]
  },
  {
   "cell_type": "code",
   "execution_count": 23,
   "metadata": {},
   "outputs": [
    {
     "output_type": "stream",
     "name": "stdout",
     "text": [
      "[0.38348355 0.90493834 0.88509962 0.5885233  0.59604584]\n\n[[0.10063735 0.51275918]\n [0.8026747  0.58009974]\n [0.20824211 0.98120101]]\n"
     ]
    }
   ],
   "source": [
    "## random\n",
    "print(np.random.rand(5))\n",
    "print()\n",
    "print(np.random.random(size=(3,2)))"
   ]
  },
  {
   "cell_type": "code",
   "execution_count": 39,
   "metadata": {},
   "outputs": [
    {
     "output_type": "stream",
     "name": "stdout",
     "text": [
      "[0.78739706 0.89160413 0.16918699 0.48831302 0.29502909]\n<class 'numpy.ndarray'>\n0.4883130156594664\n\n\n[[0.28307986 0.3465024 ]\n [0.24446491 0.53164607]\n [0.91215686 0.86853124]]\n\n0.28307986484458847\n\n[0.28307986 0.24446491 0.91215686]\n\n[0.3465024  0.53164607 0.86853124]\n"
     ]
    }
   ],
   "source": [
    "## indexing\n",
    "\n",
    "myArray = np.random.rand(5)\n",
    "print(myArray)\n",
    "print(type(myArray))\n",
    "print(myArray[3])\n",
    "print()\n",
    "print()\n",
    "\n",
    "myArray_multidimension = np.random.rand(6).reshape(3,2)\n",
    "print(myArray_multidimension)\n",
    "print()\n",
    "print(myArray_multidimension[0,0])\n",
    "print()\n",
    "print(myArray_multidimension[0:,0]) # all values of the 1st column \n",
    "print()\n",
    "print(myArray_multidimension[0:,1]) # all values of the 2nd column\n"
   ]
  },
  {
   "cell_type": "code",
   "execution_count": null,
   "metadata": {},
   "outputs": [],
   "source": []
  }
 ]
}