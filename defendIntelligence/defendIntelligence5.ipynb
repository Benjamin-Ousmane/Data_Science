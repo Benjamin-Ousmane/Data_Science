{
 "metadata": {
  "language_info": {
   "codemirror_mode": {
    "name": "ipython",
    "version": 3
   },
   "file_extension": ".py",
   "mimetype": "text/x-python",
   "name": "python",
   "nbconvert_exporter": "python",
   "pygments_lexer": "ipython3",
   "version": "3.8.8"
  },
  "orig_nbformat": 2,
  "kernelspec": {
   "name": "python388jvsc74a57bd0c7101ef4b34dd94cdfae34e8895084bfbdf7b072e0ad0aa0b23dd42cc453a76b",
   "display_name": "Python 3.8.8 64-bit ('base': conda)"
  }
 },
 "nbformat": 4,
 "nbformat_minor": 2,
 "cells": [
  {
   "cell_type": "code",
   "execution_count": 1,
   "metadata": {},
   "outputs": [],
   "source": [
    "### Tutorial from Defend Intelligence youtube channel\n",
    "\n",
    "# Les tokens communs :\n",
    "\n",
    "# [abc] : Un caractère unique de a,b ou c\n",
    "# [^abc]: Un caractère sauf a,b ou c\n",
    "# [a-z] : Un caractère entre a et z\n",
    "# [^a-z] : Un caractère pas entre a et z\n",
    "# [a-zA-Z] : Un caractère entre a-z ou A-Z\n",
    "# . : N'importre quel caractère\n",
    "# \\s : n'importe espace blanc caractère\n",
    "# \\S : N'importe non espace blanc caractère\n",
    "# \\d : N'importe quel nombre\n",
    "# \\D : N'importe caractère qui ne soit pas un nombre\n",
    "# \\w : N'importe mot\n",
    "# \\W : N'importe non mot\n",
    "# (...) Récupérer tout ce qui est entre parenthèse\n",
    "# (a|b) : Match a our b\n",
    "# a* 0 : ou + occurences de a\n",
    "# a+ 1 : ou + occurences de a\n",
    "# a{3} : Exactement 3 occurences de a\n",
    "# a{3,}: 3 ou + occurence de a\n",
    "# a{3,6} : Entre 3 et 6 occurences de a\n",
    "# \\b : les frontières d'un mot\n",
    "# \\B : les non frontières d'un mot\n",
    "# ^ : Début de la chaine de caractère\n",
    "# $ : Fin de la chaine de caractère\n"
   ]
  },
  {
   "cell_type": "code",
   "execution_count": 2,
   "metadata": {},
   "outputs": [],
   "source": [
    "## REGEX : Regular expression operations\n",
    "\n",
    "import re\n",
    "\n",
    "text = \"Man is something that shall be overcome. Man is a rope, tied between beast and overman — a rope over an abyss. What is great in man is that he is a bridge and not an end\""
   ]
  },
  {
   "cell_type": "code",
   "execution_count": 4,
   "metadata": {},
   "outputs": [
    {
     "output_type": "stream",
     "name": "stdout",
     "text": [
      "<re.Match object; span=(69, 74), match='beast'>\nNone\n"
     ]
    }
   ],
   "source": [
    "## re.search() search for a string in text, return start and end index\n",
    "print(re.search('beast', text))\n",
    "print(re.search('toto', text))"
   ]
  },
  {
   "cell_type": "code",
   "execution_count": 13,
   "metadata": {},
   "outputs": [
    {
     "output_type": "stream",
     "name": "stdout",
     "text": [
      "<re.Match object; span=(0, 3), match='Man'>\n"
     ]
    }
   ],
   "source": [
    "## compile a regular expression\n",
    "\n",
    "myregex = re.compile('Man',)\n",
    "print(myregex.search(text))"
   ]
  },
  {
   "cell_type": "code",
   "execution_count": 15,
   "metadata": {},
   "outputs": [
    {
     "output_type": "stream",
     "name": "stdout",
     "text": [
      "['man', 'man']\n2\n"
     ]
    }
   ],
   "source": [
    "## re.findall(regex, text) return a match list\n",
    "\n",
    "man_find = re.findall('man', text)\n",
    "print(man_find)\n",
    "print(len(man_find))"
   ]
  },
  {
   "cell_type": "code",
   "execution_count": 16,
   "metadata": {},
   "outputs": [
    {
     "output_type": "execute_result",
     "data": {
      "text/plain": [
       "['',\n",
       " 'an is something that shall be overcome. ',\n",
       " 'an is a rope, tied between beast and overman — a rope over an abyss. ',\n",
       " 'hat is great in man is that he is a bridge and not an end']"
      ]
     },
     "metadata": {},
     "execution_count": 16
    }
   ],
   "source": [
    "## re.split('regex', text)\n",
    "\n",
    "re.split('[A-Z]', text)"
   ]
  },
  {
   "cell_type": "code",
   "execution_count": 25,
   "metadata": {},
   "outputs": [
    {
     "output_type": "stream",
     "name": "stdout",
     "text": [
      "1\n"
     ]
    }
   ],
   "source": [
    "## EXCEPTIONS\n",
    "## try except finally\n",
    "b = 1\n",
    "c = 'anis'\n",
    "try:\n",
    "    a = b/c\n",
    "except ZeroDivisionError:\n",
    "    a = b*c\n",
    "except TypeError:\n",
    "    a=b\n",
    "finally:\n",
    "    print(a)"
   ]
  },
  {
   "cell_type": "code",
   "execution_count": 28,
   "metadata": {},
   "outputs": [
    {
     "output_type": "error",
     "ename": "ValueError",
     "evalue": "",
     "traceback": [
      "\u001b[1;31m---------------------------------------------------------------------------\u001b[0m",
      "\u001b[1;31mValueError\u001b[0m                                Traceback (most recent call last)",
      "\u001b[1;32m<ipython-input-28-40a66129841d>\u001b[0m in \u001b[0;36m<module>\u001b[1;34m\u001b[0m\n\u001b[0;32m      4\u001b[0m \u001b[0mc\u001b[0m \u001b[1;33m=\u001b[0m \u001b[1;36m3\u001b[0m\u001b[1;33m\u001b[0m\u001b[1;33m\u001b[0m\u001b[0m\n\u001b[0;32m      5\u001b[0m \u001b[1;32mif\u001b[0m \u001b[0mc\u001b[0m\u001b[1;33m<\u001b[0m\u001b[1;36m5\u001b[0m \u001b[1;33m:\u001b[0m\u001b[1;33m\u001b[0m\u001b[1;33m\u001b[0m\u001b[0m\n\u001b[1;32m----> 6\u001b[1;33m     \u001b[1;32mraise\u001b[0m \u001b[0mValueError\u001b[0m\u001b[1;33m\u001b[0m\u001b[1;33m\u001b[0m\u001b[0m\n\u001b[0m\u001b[0;32m      7\u001b[0m \u001b[1;32melse\u001b[0m\u001b[1;33m:\u001b[0m\u001b[1;33m\u001b[0m\u001b[1;33m\u001b[0m\u001b[0m\n\u001b[0;32m      8\u001b[0m     \u001b[0ma\u001b[0m\u001b[1;33m=\u001b[0m \u001b[0mb\u001b[0m\u001b[1;33m*\u001b[0m\u001b[0mc\u001b[0m\u001b[1;33m\u001b[0m\u001b[1;33m\u001b[0m\u001b[0m\n",
      "\u001b[1;31mValueError\u001b[0m: "
     ]
    }
   ],
   "source": [
    "## raise Error\n",
    "\n",
    "b = 5\n",
    "c = 3\n",
    "if c<5 :\n",
    "    raise ValueError\n",
    "else:\n",
    "    a= b*c\n",
    "\n",
    "print(a)\n"
   ]
  },
  {
   "cell_type": "code",
   "execution_count": 3,
   "metadata": {},
   "outputs": [
    {
     "output_type": "stream",
     "name": "stdout",
     "text": [
      "Hello\nI am the F function\n"
     ]
    }
   ],
   "source": [
    "## Decorator\n",
    "\n",
    "\n",
    "\n",
    "def f1(fct):\n",
    "    def myfunc():\n",
    "        print('Hello')\n",
    "        fct()\n",
    "    return myfunc\n",
    "\n",
    "@f1\n",
    "def f():\n",
    "    print('I am the F function')\n",
    "\n",
    "#f = f1(f)\n",
    "f()"
   ]
  },
  {
   "cell_type": "code",
   "execution_count": 7,
   "metadata": {},
   "outputs": [
    {
     "output_type": "stream",
     "name": "stdout",
     "text": [
      "36\n11\n14955.1\n"
     ]
    }
   ],
   "source": [
    "## *args : as many arguments as you want\n",
    "\n",
    "def add(*args):\n",
    "    result = 0\n",
    "    for arg in args:\n",
    "        result += arg \n",
    "    return result\n",
    "\n",
    "print(add(1,2,3,10,20))\n",
    "print(add(2,4,5))\n",
    "print(add(35,133,13355,368,997,67.1))"
   ]
  },
  {
   "cell_type": "code",
   "execution_count": 8,
   "metadata": {},
   "outputs": [
    {
     "output_type": "execute_result",
     "data": {
      "text/plain": [
       "9"
      ]
     },
     "metadata": {},
     "execution_count": 8
    }
   ],
   "source": [
    "## **kwargs : arguments from a dictionnary or key word\n",
    "\n",
    "# example with key word\n",
    "def add(**kwargs):\n",
    "    result = 0\n",
    "    for key, value, in kwargs.items():\n",
    "        if key =='arg1':\n",
    "            continue\n",
    "        result += value\n",
    "    return result\n",
    "\n",
    "add(arg1=1, arg2=2, arg3=3, arg4=4)"
   ]
  },
  {
   "cell_type": "code",
   "execution_count": 9,
   "metadata": {},
   "outputs": [
    {
     "output_type": "execute_result",
     "data": {
      "text/plain": [
       "9"
      ]
     },
     "metadata": {},
     "execution_count": 9
    }
   ],
   "source": [
    "# example with a dictionnary\n",
    "def add(**kwargs):\n",
    "    result = 0\n",
    "    for key, value, in kwargs.items():\n",
    "        if key =='arg1':\n",
    "            continue\n",
    "        result += value\n",
    "    return result\n",
    "\n",
    "dict_args = {\n",
    "    'arg1':1,\n",
    "    'arg2':2,\n",
    "    'arg3':3,\n",
    "    'arg4':4    \n",
    "    }\n",
    "\n",
    "add(**dict_args)"
   ]
  },
  {
   "cell_type": "code",
   "execution_count": 15,
   "metadata": {},
   "outputs": [
    {
     "output_type": "stream",
     "name": "stdout",
     "text": [
      "Wall time: 0 ns\n[0, 1, 2, 3, 4, 5, 6, 7, 8, 9]\n[0, 1, 2, 3, 4, 5, 6, 7, 8, 9]\n"
     ]
    }
   ],
   "source": [
    "## list comprehension\n",
    "a = []\n",
    "for i in range(10):\n",
    "    a.append(i)\n",
    "\n",
    "b = [i for i in range(10)]\n",
    "\n",
    "print(a)\n",
    "print(b)"
   ]
  },
  {
   "cell_type": "code",
   "execution_count": 17,
   "metadata": {},
   "outputs": [
    {
     "output_type": "stream",
     "name": "stdout",
     "text": [
      "6\n"
     ]
    }
   ],
   "source": [
    "## lambda *args : function\n",
    "\n",
    "add = lambda arg1,arg2,arg3 : arg1 + arg2 + arg3\n",
    "\n",
    "print(add(1,2,3))\n",
    "\n"
   ]
  }
 ]
}