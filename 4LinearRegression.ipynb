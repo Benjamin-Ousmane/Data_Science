{
 "cells": [
  {
   "cell_type": "code",
   "execution_count": 2,
   "source": [
    "import pandas as pd\r\n",
    "import numpy as np\r\n",
    "import matplotlib.pyplot as plt\r\n",
    "from mplsoccer.pitch import Pitch, VerticalPitch\r\n",
    "import statsmodels.api as sm\r\n",
    "import statsmodels.formula.api as smf"
   ],
   "outputs": [],
   "metadata": {}
  },
  {
   "cell_type": "code",
   "execution_count": 7,
   "source": [
    "#Some made up data\r\n",
    "minutes_played=np.array([120,452,185,708,340,561])\r\n",
    "goals_scored=np.array([1,6,3,7,3,5])"
   ],
   "outputs": [],
   "metadata": {}
  },
  {
   "cell_type": "code",
   "execution_count": 8,
   "source": [
    "#Set up dataframe\r\n",
    "minutes_model = pd.DataFrame()\r\n",
    "minutes_model = minutes_model.assign(minutes=minutes_played)\r\n",
    "minutes_model = minutes_model.assign(goals=goals_scored)"
   ],
   "outputs": [],
   "metadata": {}
  },
  {
   "cell_type": "code",
   "execution_count": 15,
   "source": [
    "fig,ax=plt.subplots(num=1)\r\n",
    "ax.plot(minutes_played, goals_scored, linestyle='none', marker= '.', markerSize= 12, color='black')\r\n",
    "ax.set_ylabel('Goals scored')\r\n",
    "ax.set_xlabel('Minutes played')\r\n",
    "ax.spines['top'].set_visible(False)\r\n",
    "ax.spines['right'].set_visible(False)\r\n",
    "plt.xlim((0,750))\r\n",
    "plt.ylim((0,8))"
   ],
   "outputs": [
    {
     "output_type": "execute_result",
     "data": {
      "text/plain": [
       "(0.0, 8.0)"
      ]
     },
     "metadata": {},
     "execution_count": 15
    },
    {
     "output_type": "display_data",
     "data": {
      "text/plain": [
       "<Figure size 432x288 with 1 Axes>"
      ],
      "image/png": "[encoded data removed]"
     },
     "metadata": {
      "needs_background": "light"
     }
    }
   ],
   "metadata": {}
  },
  {
   "cell_type": "code",
   "execution_count": 16,
   "source": [
    "#Slope of one goal per 90 played\r\n",
    "#b=1/90\r\n",
    "#Intercept\r\n",
    "a=0\r\n",
    "\r\n",
    "\r\n",
    "#Slope determined by linear regression\r\n",
    "model_fit=smf.ols(formula='goals_scored ~ minutes_played -1 ', data=minutes_model).fit()\r\n",
    "print(model_fit.summary())        \r\n",
    "[b]=model_fit.params\r\n",
    "\r\n",
    "x=np.arange(800,step=0.1)\r\n",
    "y= a + b*x \r\n",
    "\r\n",
    "ax.plot(minutes_played, goals_scored, linestyle='none', marker= '.', markerSize= 12, color='black')\r\n",
    "ax.plot(x, y, color='black')"
   ],
   "outputs": [
    {
     "output_type": "stream",
     "name": "stdout",
     "text": [
      "                                 OLS Regression Results                                \n",
      "=======================================================================================\n",
      "Dep. Variable:           goals_scored   R-squared (uncentered):                   0.969\n",
      "Model:                            OLS   Adj. R-squared (uncentered):              0.963\n",
      "Method:                 Least Squares   F-statistic:                              156.1\n",
      "Date:                Wed, 28 Jul 2021   Prob (F-statistic):                    5.83e-05\n",
      "Time:                        12:28:49   Log-Likelihood:                         -7.2998\n",
      "No. Observations:                   6   AIC:                                      16.60\n",
      "Df Residuals:                       5   BIC:                                      16.39\n",
      "Df Model:                           1                                                  \n",
      "Covariance Type:            nonrobust                                                  \n",
      "==================================================================================\n",
      "                     coef    std err          t      P>|t|      [0.025      0.975]\n",
      "----------------------------------------------------------------------------------\n",
      "minutes_played     0.0103      0.001     12.495      0.000       0.008       0.012\n",
      "==============================================================================\n",
      "Omnibus:                          nan   Durbin-Watson:                   1.148\n",
      "Prob(Omnibus):                    nan   Jarque-Bera (JB):                0.840\n",
      "Skew:                           0.586   Prob(JB):                        0.657\n",
      "Kurtosis:                       1.590   Cond. No.                         1.00\n",
      "==============================================================================\n",
      "\n",
      "Notes:\n",
      "[1] R² is computed without centering (uncentered) since the model does not contain a constant.\n",
      "[2] Standard Errors assume that the covariance matrix of the errors is correctly specified.\n"
     ]
    },
    {
     "output_type": "stream",
     "name": "stderr",
     "text": [
      "C:\\Users\\ousma\\anaconda3\\lib\\site-packages\\statsmodels\\stats\\stattools.py:74: ValueWarning: omni_normtest is not valid with less than 8 observations; 6 samples were given.\n",
      "  warn(\"omni_normtest is not valid with less than 8 observations; %i \"\n"
     ]
    },
    {
     "output_type": "execute_result",
     "data": {
      "text/plain": [
       "[<matplotlib.lines.Line2D at 0x2a0793656d0>]"
      ]
     },
     "metadata": {},
     "execution_count": 16
    }
   ],
   "metadata": {}
  },
  {
   "cell_type": "code",
   "execution_count": null,
   "source": [],
   "outputs": [],
   "metadata": {}
  }
 ],
 "metadata": {
  "orig_nbformat": 4,
  "language_info": {
   "name": "python",
   "version": "3.8.8",
   "mimetype": "text/x-python",
   "codemirror_mode": {
    "name": "ipython",
    "version": 3
   },
   "pygments_lexer": "ipython3",
   "nbconvert_exporter": "python",
   "file_extension": ".py"
  },
  "kernelspec": {
   "name": "python3",
   "display_name": "Python 3.8.8 64-bit ('base': conda)"
  },
  "interpreter": {
   "hash": "c7101ef4b34dd94cdfae34e8895084bfbdf7b072e0ad0aa0b23dd42cc453a76b"
  }
 },
 "nbformat": 4,
 "nbformat_minor": 2
}