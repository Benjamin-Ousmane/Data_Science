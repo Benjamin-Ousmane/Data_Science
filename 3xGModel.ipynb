{
    "cells": [
        {
            "cell_type": "code",
            "execution_count": 1,
            "metadata": {},
            "outputs": [],
            "source": [
                "#The basics\n",
                "import pandas as pd\n",
                "import numpy as np\n",
                "import json\n",
                "\n",
                "#Plotting\n",
                "import matplotlib.pyplot as plt\n",
                "from mplsoccer.pitch import Pitch, VerticalPitch\n",
                "import FCPython \n",
                "\n",
                "#Statistical fitting of models\n",
                "import statsmodels.api as sm\n",
                "import statsmodels.formula.api as smf"
            ]
        },
        {
            "cell_type": "code",
            "execution_count": 2,
            "metadata": {},
            "outputs": [],
            "source": [
                "#Decide which league to load\n",
                "#Wyscout data from https://figshare.com/collections/Soccer_match_event_dataset/4415000/2\n",
                "with open('../Wyscout/events/events_England.json') as f:\n",
                "    data = json.load(f)"
            ]
        },
        {
            "cell_type": "code",
            "execution_count": 3,
            "metadata": {},
            "outputs": [],
            "source": [
                "#Create a data set of shots.\n",
                "train = pd.DataFrame(data)\n",
                "pd.unique(train['subEventName'])\n",
                "shots=train[train['subEventName']=='Shot']\n",
                "shots_model=pd.DataFrame(columns=['Goal','X','Y'])"
            ]
        },
        {
            "cell_type": "code",
            "execution_count": 4,
            "metadata": {},
            "outputs": [],
            "source": [
                "#Go through the dataframe and calculate X, Y co-ordinates.\n",
                "#Distance from a line in the centre\n",
                "#Shot angle.\n",
                "#Details of tags can be found here: https://apidocs.wyscout.com/matches-wyid-events\n",
                "for i,shot in shots.iterrows():\n",
                "    \n",
                "    header=0\n",
                "    for shottags in shot['tags']:\n",
                "        if shottags['id']==403:\n",
                "            header=1\n",
                "    #Only include non-headers        \n",
                "    if not(header):        \n",
                "        shots_model.at[i,'X']=100-shot['positions'][0]['x']\n",
                "        shots_model.at[i,'Y']=shot['positions'][0]['y']\n",
                "        shots_model.at[i,'C']=abs(shot['positions'][0]['y']-50)\n",
                "    \n",
                "        #Distance in metres and shot angle in radians.\n",
                "        x=shots_model.at[i,'X']*120/100\n",
                "        y=shots_model.at[i,'C']*80/100\n",
                "        shots_model.at[i,'Distance']=np.sqrt(x**2 + y**2)\n",
                "        a = np.arctan(7.32 *x /(x**2 + y**2 - (7.32/2)**2))\n",
                "        if a<0:\n",
                "            a=np.pi+a\n",
                "        shots_model.at[i,'Angle'] =a\n",
                "    \n",
                "        #Was it a goal\n",
                "        shots_model.at[i,'Goal']=0\n",
                "        for shottags in shot['tags']:\n",
                "                #Tags contain that its a goal\n",
                "                if shottags['id']==101:\n",
                "                    shots_model.at[i,'Goal']=1"
            ]
        },
        {
            "cell_type": "code",
            "execution_count": 5,
            "metadata": {},
            "outputs": [],
            "source": [
                "#Two dimensional histogram\n",
                "H_Shot=np.histogram2d(shots_model['X'], shots_model['Y'],bins=50,range=[[0, 100],[0, 100]])\n",
                "goals_only=shots_model[shots_model['Goal']==1]\n",
                "H_Goal=np.histogram2d(goals_only['X'], goals_only['Y'],bins=50,range=[[0, 100],[0, 100]])"
            ]
        },
        {
            "cell_type": "code",
            "execution_count": 6,
            "metadata": {},
            "outputs": [],
            "source": [
                "def verticalPitchHS():\n",
                "    # Draw the pitch\n",
                "    fig, ax = plt.subplots(figsize=(16,11))\n",
                "    fig.set_facecolor('#657c8f')\n",
                "    ax.set_facecolor('#657c8f')\n",
                "\n",
                "    pitch = VerticalPitch(pitch_type='statsbomb', \n",
                "                pitch_color='white', line_color='black', \n",
                "                positional=True, shade_middle=False, \n",
                "                positional_color='#657c8f', shade_color='#f2f2f2',\n",
                "                axis=True, label=True,\n",
                "                half=True)\n",
                "\n",
                "    pitch.draw(ax=ax,  figsize=(16,11), constrained_layout=True, tight_layout=True)\n",
                "    # plt.gca().invert_yaxis() \n",
                "\n",
                "    # Illuminate half-spaces\n",
                "    rect1 = plt.Rectangle((18.2, 18.5), 11.6, 83.5, color=\"#8298ab\", alpha=0.2)\n",
                "    ax.add_patch(rect1)\n",
                "    rect2 = plt.Rectangle((50.2, 18.5), 11.6, 83.5, color=\"#8298ab\", alpha=0.2)\n",
                "    ax.add_patch(rect2) \n",
                "\n",
                "    x=[9,24,40,56,71]\n",
                "    y=[10,30,50,70,90,110]\n",
                "    col_labels = ['A', 'B', 'C', 'D', 'E']\n",
                "    row_labels = range(6,0,-1)\n",
                "    plt.xticks(x, col_labels)\n",
                "    plt.yticks(y, row_labels)\n",
                "    \n",
                "    return fig, ax"
            ]
        },
        {
            "cell_type": "code",
            "execution_count": 7,
            "metadata": {},
            "outputs": [
                {
                    "data": {
                        "image/png": "[encoded data removed]",
                        "text/plain": [
                            "<Figure size 432x288 with 2 Axes>"
                        ]
                    },
                    "metadata": {
                        "needs_background": "light"
                    },
                    "output_type": "display_data"
                }
            ],
            "source": [
                "#Plot the number of shots from different points\n",
                "(fig,ax) = FCPython.createGoalMouth()\n",
                "pos=ax.imshow(H_Shot[0], extent=[-1,66,104,-1], aspect='auto',cmap=plt.cm.Reds)\n",
                "fig.colorbar(pos, ax=ax)\n",
                "ax.set_title('Number of shots')\n",
                "plt.xlim((-1,66))\n",
                "plt.ylim((-3,35))\n",
                "plt.tight_layout()\n",
                "plt.gca().set_aspect('equal', adjustable='box')\n",
                "plt.show()\n",
                "# fig.savefig('../Output/NumberOfShots.pdf', dpi=None, bbox_inches=\"tight\")   "
            ]
        },
        {
            "cell_type": "code",
            "execution_count": 8,
            "metadata": {},
            "outputs": [
                {
                    "data": {
                        "image/png": "[encoded data removed]",
                        "text/plain": [
                            "<Figure size 432x288 with 2 Axes>"
                        ]
                    },
                    "metadata": {
                        "needs_background": "light"
                    },
                    "output_type": "display_data"
                }
            ],
            "source": [
                "#Plot the number of GOALS from different points\n",
                "(fig,ax) = FCPython.createGoalMouth()\n",
                "pos=ax.imshow(H_Goal[0], extent=[-1,66,104,-1], aspect='auto',cmap=plt.cm.Reds)\n",
                "fig.colorbar(pos, ax=ax)\n",
                "ax.set_title('Number of goals')\n",
                "plt.xlim((-1,66))\n",
                "plt.ylim((-3,35))\n",
                "plt.tight_layout()\n",
                "plt.gca().set_aspect('equal', adjustable='box')\n",
                "plt.show()\n",
                "# fig.savefig('../Output/NumberOfGoals.pdf', dpi=None, bbox_inches=\"tight\")"
            ]
        },
        {
            "cell_type": "code",
            "execution_count": 9,
            "metadata": {},
            "outputs": [
                {
                    "name": "stderr",
                    "output_type": "stream",
                    "text": [
                        "<ipython-input-9-586d27669e50>:3: RuntimeWarning: invalid value encountered in true_divide\n",
                        "  pos=ax.imshow(H_Goal[0]/H_Shot[0], extent=[-1,66,104,-1], aspect='auto',cmap=plt.cm.Reds,vmin=0, vmax=0.5)\n"
                    ]
                },
                {
                    "data": {
                        "image/png": "[encoded data removed]",
                        "text/plain": [
                            "<Figure size 432x288 with 2 Axes>"
                        ]
                    },
                    "metadata": {
                        "needs_background": "light"
                    },
                    "output_type": "display_data"
                }
            ],
            "source": [
                "#Plot the probability of scoring from different points\n",
                "(fig,ax) = FCPython.createGoalMouth()\n",
                "pos=ax.imshow(H_Goal[0]/H_Shot[0], extent=[-1,66,104,-1], aspect='auto',cmap=plt.cm.Reds,vmin=0, vmax=0.5)\n",
                "fig.colorbar(pos, ax=ax)\n",
                "ax.set_title('Proportion of shots resulting in a goal')\n",
                "plt.xlim((-1,66))\n",
                "plt.ylim((-3,35))\n",
                "plt.tight_layout()\n",
                "plt.gca().set_aspect('equal', adjustable='box')\n",
                "plt.show()\n",
                "# fig.savefig('../Output/ProbabilityOfScoring.pdf', dpi=None, bbox_inches=\"tight\")   "
            ]
        }
    ],
    "metadata": {
        "interpreter": {
            "hash": "c7101ef4b34dd94cdfae34e8895084bfbdf7b072e0ad0aa0b23dd42cc453a76b"
        },
        "kernelspec": {
            "display_name": "Python 3.8.8 64-bit ('base': conda)",
            "name": "python3"
        },
        "language_info": {
            "codemirror_mode": {
                "name": "ipython",
                "version": 3
            },
            "file_extension": ".py",
            "mimetype": "text/x-python",
            "name": "python",
            "nbconvert_exporter": "python",
            "pygments_lexer": "ipython3",
            "version": "3.8.8"
        },
        "orig_nbformat": 4
    },
    "nbformat": 4,
    "nbformat_minor": 2
}
