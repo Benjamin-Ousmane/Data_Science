{
 "cells": [
  {
   "cell_type": "code",
   "execution_count": 1,
   "metadata": {},
   "outputs": [],
   "source": [
    "## Check this lesson https://www.youtube.com/watch?v=GTtuOt03FM0\n",
    "\n",
    "#Load in Statsbomb competition and match data\n",
    "#This is a library for loading json files.\n",
    "import json"
   ]
  },
  {
   "cell_type": "code",
   "execution_count": 2,
   "metadata": {},
   "outputs": [],
   "source": [
    "#Load the competition file\n",
    "#Got this by searching 'how do I open json in Python'\n",
    "with open('../Statsbomb/data/competitions.json') as f:\n",
    "    competitions = json.load(f)"
   ]
  },
  {
   "cell_type": "code",
   "execution_count": 3,
   "metadata": {},
   "outputs": [],
   "source": [
    "#Womens World Cup 2019 has competition ID 72\n",
    "competition_id=72\n",
    "\n",
    "#Load the list of matches for this competition\n",
    "with open('../Statsbomb/data/matches/'+str(competition_id)+'/30.json') as f:\n",
    "    matches = json.load(f)"
   ]
  },
  {
   "cell_type": "code",
   "execution_count": 4,
   "metadata": {},
   "outputs": [
    {
     "data": {
      "text/plain": [
       "{'match_id': 69163,\n",
       " 'match_date': '2019-06-24',\n",
       " 'kick_off': '21:00:00.000',\n",
       " 'competition': {'competition_id': 72,\n",
       "  'country_name': 'International',\n",
       "  'competition_name': \"Women's World Cup\"},\n",
       " 'season': {'season_id': 30, 'season_name': '2019'},\n",
       " 'home_team': {'home_team_id': 858,\n",
       "  'home_team_name': \"Sweden Women's\",\n",
       "  'home_team_gender': 'female',\n",
       "  'home_team_group': None,\n",
       "  'country': {'id': 220, 'name': 'Sweden'},\n",
       "  'managers': [{'id': 3016,\n",
       "    'name': 'Peter Gerhardsson',\n",
       "    'nickname': None,\n",
       "    'dob': None,\n",
       "    'country': {'id': 220, 'name': 'Sweden'}}]},\n",
       " 'away_team': {'away_team_id': 1206,\n",
       "  'away_team_name': \"Canada Women's\",\n",
       "  'away_team_gender': 'female',\n",
       "  'away_team_group': None,\n",
       "  'country': {'id': 40, 'name': 'Canada'},\n",
       "  'managers': [{'id': 172,\n",
       "    'name': 'Kenneth Heiner-Møller',\n",
       "    'nickname': None,\n",
       "    'dob': '1971-01-17',\n",
       "    'country': {'id': 61, 'name': 'Denmark'}}]},\n",
       " 'home_score': 1,\n",
       " 'away_score': 0,\n",
       " 'match_status': 'available',\n",
       " 'match_status_360': 'unscheduled',\n",
       " 'last_updated': '2020-07-29T05:00',\n",
       " 'last_updated_360': None,\n",
       " 'metadata': {'data_version': '1.1.0',\n",
       "  'shot_fidelity_version': '2',\n",
       "  'xy_fidelity_version': '2'},\n",
       " 'match_week': 4,\n",
       " 'competition_stage': {'id': 33, 'name': 'Round of 16'},\n",
       " 'stadium': {'id': 154,\n",
       "  'name': 'Parc des Princes',\n",
       "  'country': {'id': 78, 'name': 'France'}},\n",
       " 'referee': {'id': 1640,\n",
       "  'name': 'K. Jacewicz',\n",
       "  'country': {'id': 14, 'name': 'Australia'}}}"
      ]
     },
     "execution_count": 4,
     "metadata": {},
     "output_type": "execute_result"
    }
   ],
   "source": [
    "#Look inside matches\n",
    "matches[0]"
   ]
  },
  {
   "cell_type": "code",
   "execution_count": 5,
   "metadata": {},
   "outputs": [
    {
     "data": {
      "text/plain": [
       "{'home_team_id': 858,\n",
       " 'home_team_name': \"Sweden Women's\",\n",
       " 'home_team_gender': 'female',\n",
       " 'home_team_group': None,\n",
       " 'country': {'id': 220, 'name': 'Sweden'},\n",
       " 'managers': [{'id': 3016,\n",
       "   'name': 'Peter Gerhardsson',\n",
       "   'nickname': None,\n",
       "   'dob': None,\n",
       "   'country': {'id': 220, 'name': 'Sweden'}}]}"
      ]
     },
     "execution_count": 5,
     "metadata": {},
     "output_type": "execute_result"
    }
   ],
   "source": [
    "matches[0]['home_team']"
   ]
  },
  {
   "cell_type": "code",
   "execution_count": 6,
   "metadata": {},
   "outputs": [
    {
     "data": {
      "text/plain": [
       "\"Sweden Women's\""
      ]
     },
     "execution_count": 6,
     "metadata": {},
     "output_type": "execute_result"
    }
   ],
   "source": [
    "matches[0]['home_team']['home_team_name']"
   ]
  },
  {
   "cell_type": "code",
   "execution_count": 7,
   "metadata": {},
   "outputs": [
    {
     "name": "stdout",
     "output_type": "stream",
     "text": [
      "The match between Sweden Women's and Canada Women's finished 1 : 0\n",
      "The match between Cameroon Women's and New Zealand Women's finished 2 : 1\n",
      "The match between Germany Women's and Nigeria Women's finished 3 : 0\n",
      "The match between England Women's and Sweden Women's finished 1 : 2\n",
      "The match between Jamaica Women's and Australia Women's finished 1 : 4\n",
      "The match between Italy Women's and Netherlands Women's finished 0 : 2\n",
      "The match between France Women's and Brazil Women's finished 2 : 1\n",
      "The match between Germany Women's and Sweden Women's finished 1 : 2\n",
      "The match between England Women's and Scotland Women's finished 2 : 1\n",
      "The match between Sweden Women's and Thailand Women's finished 5 : 1\n",
      "The match between Japan Women's and England Women's finished 0 : 2\n",
      "The match between Korea Republic Women's and Norway Women's finished 1 : 2\n",
      "The match between United States Women's and Chile Women's finished 3 : 0\n",
      "The match between Norway Women's and Australia Women's finished 1 : 1\n",
      "The match between Norway Women's and Nigeria Women's finished 3 : 0\n",
      "The match between United States Women's and Netherlands Women's finished 2 : 0\n",
      "The match between China PR Women's and Spain Women's finished 0 : 0\n",
      "The match between Italy Women's and Brazil Women's finished 0 : 1\n",
      "The match between France Women's and Korea Republic Women's finished 4 : 0\n",
      "The match between Germany Women's and China PR Women's finished 1 : 0\n",
      "The match between Spain Women's and South Africa Women's finished 3 : 1\n",
      "The match between Australia Women's and Italy Women's finished 1 : 2\n",
      "The match between Brazil Women's and Jamaica Women's finished 3 : 0\n",
      "The match between Canada Women's and Cameroon Women's finished 1 : 0\n",
      "The match between Argentina Women's and Japan Women's finished 0 : 0\n",
      "The match between France Women's and United States Women's finished 1 : 2\n",
      "The match between New Zealand Women's and Netherlands Women's finished 0 : 1\n",
      "The match between United States Women's and Thailand Women's finished 13 : 0\n",
      "The match between Chile Women's and Sweden Women's finished 0 : 2\n",
      "The match between Nigeria Women's and Korea Republic Women's finished 2 : 0\n",
      "The match between France Women's and Norway Women's finished 2 : 1\n",
      "The match between Germany Women's and Spain Women's finished 1 : 0\n",
      "The match between South Africa Women's and China PR Women's finished 0 : 1\n",
      "The match between Australia Women's and Brazil Women's finished 3 : 2\n",
      "The match between England Women's and Argentina Women's finished 1 : 0\n",
      "The match between Jamaica Women's and Italy Women's finished 0 : 5\n",
      "The match between Japan Women's and Scotland Women's finished 2 : 1\n",
      "The match between Netherlands Women's and Cameroon Women's finished 3 : 1\n",
      "The match between Canada Women's and New Zealand Women's finished 2 : 0\n",
      "The match between Nigeria Women's and France Women's finished 0 : 1\n",
      "The match between South Africa Women's and Germany Women's finished 0 : 4\n",
      "The match between Scotland Women's and Argentina Women's finished 3 : 3\n",
      "The match between Thailand Women's and Chile Women's finished 0 : 2\n",
      "The match between Netherlands Women's and Canada Women's finished 2 : 1\n",
      "The match between Sweden Women's and United States Women's finished 0 : 2\n",
      "The match between England Women's and Cameroon Women's finished 3 : 0\n",
      "The match between Spain Women's and United States Women's finished 1 : 2\n",
      "The match between Italy Women's and China PR Women's finished 2 : 0\n",
      "The match between Netherlands Women's and Japan Women's finished 2 : 1\n",
      "The match between Norway Women's and England Women's finished 0 : 3\n",
      "The match between England Women's and United States Women's finished 1 : 2\n",
      "The match between Netherlands Women's and Sweden Women's finished 1 : 0\n"
     ]
    }
   ],
   "source": [
    "#Print all match results\n",
    "for match in matches:\n",
    "    home_team_name=match['home_team']['home_team_name']\n",
    "    away_team_name=match['away_team']['away_team_name']\n",
    "    home_score=match['home_score']\n",
    "    away_score=match['away_score']\n",
    "    describe_text = 'The match between ' + home_team_name + ' and ' + away_team_name\n",
    "    result_text = ' finished ' + str(home_score) +  ' : ' + str(away_score)\n",
    "    print(describe_text + result_text)"
   ]
  },
  {
   "cell_type": "code",
   "execution_count": 8,
   "metadata": {},
   "outputs": [
    {
     "name": "stdout",
     "output_type": "stream",
     "text": [
      "England Women's vs Sweden Women's has id:69301\n"
     ]
    }
   ],
   "source": [
    "#Now lets find a match we are interested in\n",
    "home_team_required =\"England Women's\"\n",
    "away_team_required =\"Sweden Women's\"\n",
    "\n",
    "#Find ID for the match\n",
    "for match in matches:\n",
    "    home_team_name=match['home_team']['home_team_name']\n",
    "    away_team_name=match['away_team']['away_team_name']\n",
    "    if (home_team_name==home_team_required) and (away_team_name==away_team_required):\n",
    "        match_id_required = match['match_id']\n",
    "print(home_team_required + ' vs ' + away_team_required + ' has id:' + str(match_id_required))"
   ]
  },
  {
   "cell_type": "code",
   "execution_count": 9,
   "metadata": {},
   "outputs": [],
   "source": [
    "## Exercise 1: Edit the code above to print out the result list for the Mens World cup \n"
   ]
  },
  {
   "cell_type": "code",
   "execution_count": 10,
   "metadata": {},
   "outputs": [
    {
     "name": "stdout",
     "output_type": "stream",
     "text": [
      "The Mens world cup has id : 43\n",
      "The season_id is : 3\n"
     ]
    }
   ],
   "source": [
    "# first we check the competition_id, we can see it directly in the table (the id=43)\n",
    "# we can also find it with a loop\n",
    "for comp in competitions:\n",
    "    comp_name = comp['competition_name']\n",
    "    away_team_name=match['away_team']['away_team_name']\n",
    "    if (comp_name == 'FIFA World Cup'):\n",
    "        comp_id_required = comp['competition_id']\n",
    "        season_id_required = comp['season_id']\n",
    "print('The Mens world cup has id : ' + str(comp_id_required))\n",
    "print('The season_id is : ' + str(season_id_required))"
   ]
  },
  {
   "cell_type": "code",
   "execution_count": 11,
   "metadata": {},
   "outputs": [],
   "source": [
    "#Mens World Cup 2019 \n",
    "men_world_cup_comp_id=43\n",
    "season_id=3\n",
    "# load the list of matches for Mens World cup\n",
    "with open('../Statsbomb/data/matches/' + str(men_world_cup_comp_id)+ '/' + str(season_id) + '.json') as f:\n",
    "    men_matches = json.load(f)"
   ]
  },
  {
   "cell_type": "code",
   "execution_count": 12,
   "metadata": {},
   "outputs": [
    {
     "name": "stdout",
     "output_type": "stream",
     "text": [
      "The match between Croatia and Denmark finished 1 : 1\n",
      "The match between Nigeria and Iceland finished 2 : 0\n",
      "The match between Poland and Colombia finished 0 : 3\n",
      "The match between Croatia and Nigeria finished 2 : 0\n",
      "The match between Brazil and Costa Rica finished 2 : 0\n",
      "The match between Germany and Mexico finished 0 : 1\n",
      "The match between Australia and Peru finished 0 : 2\n",
      "The match between Serbia and Brazil finished 0 : 2\n",
      "The match between Senegal and Colombia finished 0 : 1\n",
      "The match between Panama and Tunisia finished 1 : 2\n",
      "The match between Switzerland and Costa Rica finished 2 : 2\n",
      "The match between France and Australia finished 2 : 1\n",
      "The match between Uruguay and Russia finished 3 : 0\n",
      "The match between Brazil and Mexico finished 2 : 0\n",
      "The match between Russia and Croatia finished 2 : 2\n",
      "The match between Denmark and Australia finished 1 : 1\n",
      "The match between Costa Rica and Serbia finished 0 : 1\n",
      "The match between France and Peru finished 1 : 0\n",
      "The match between Belgium and Japan finished 3 : 2\n",
      "The match between Belgium and Panama finished 3 : 0\n",
      "The match between Argentina and Croatia finished 0 : 3\n",
      "The match between France and Argentina finished 4 : 3\n",
      "The match between Brazil and Belgium finished 1 : 2\n",
      "The match between Uruguay and France finished 0 : 2\n",
      "The match between France and Croatia finished 4 : 2\n",
      "The match between Iceland and Croatia finished 1 : 2\n",
      "The match between Poland and Senegal finished 1 : 2\n",
      "The match between Denmark and France finished 0 : 0\n",
      "The match between Egypt and Uruguay finished 0 : 1\n",
      "The match between Argentina and Iceland finished 1 : 1\n",
      "The match between Spain and Russia finished 1 : 1\n",
      "The match between Belgium and Tunisia finished 5 : 2\n",
      "The match between Peru and Denmark finished 0 : 1\n",
      "The match between Uruguay and Saudi Arabia finished 1 : 0\n",
      "The match between South Korea and Mexico finished 1 : 2\n",
      "The match between Spain and Morocco finished 2 : 2\n",
      "The match between Brazil and Switzerland finished 1 : 1\n",
      "The match between Nigeria and Argentina finished 1 : 2\n",
      "The match between Japan and Senegal finished 2 : 2\n",
      "The match between Saudi Arabia and Egypt finished 2 : 1\n",
      "The match between Uruguay and Portugal finished 2 : 1\n",
      "The match between Japan and Poland finished 0 : 1\n",
      "The match between Morocco and Iran finished 0 : 1\n",
      "The match between Iran and Spain finished 0 : 1\n",
      "The match between Russia and Saudi Arabia finished 5 : 0\n",
      "The match between Sweden and South Korea finished 1 : 0\n",
      "The match between Portugal and Spain finished 3 : 3\n",
      "The match between Portugal and Morocco finished 1 : 0\n",
      "The match between Mexico and Sweden finished 0 : 3\n",
      "The match between Iran and Portugal finished 1 : 1\n",
      "The match between England and Panama finished 6 : 1\n",
      "The match between England and Belgium finished 0 : 1\n",
      "The match between Colombia and England finished 1 : 1\n",
      "The match between Sweden and Switzerland finished 1 : 0\n",
      "The match between Croatia and England finished 2 : 1\n",
      "The match between Sweden and England finished 0 : 2\n",
      "The match between South Korea and Germany finished 2 : 0\n",
      "The match between Colombia and Japan finished 1 : 2\n",
      "The match between France and Belgium finished 1 : 0\n",
      "The match between Belgium and England finished 2 : 0\n",
      "The match between Russia and Egypt finished 3 : 1\n",
      "The match between Germany and Sweden finished 2 : 1\n",
      "The match between Serbia and Switzerland finished 1 : 2\n",
      "The match between Tunisia and England finished 1 : 2\n"
     ]
    }
   ],
   "source": [
    "#Print all match results from the Mens World cup\n",
    "for match in men_matches:\n",
    "    home_team_name=match['home_team']['home_team_name']\n",
    "    away_team_name=match['away_team']['away_team_name']\n",
    "    home_score=match['home_score']\n",
    "    away_score=match['away_score']\n",
    "    describe_text = 'The match between ' + home_team_name + ' and ' + away_team_name\n",
    "    result_text = ' finished ' + str(home_score) +  ' : ' + str(away_score)\n",
    "    print(describe_text + result_text)"
   ]
  },
  {
   "cell_type": "code",
   "execution_count": 13,
   "metadata": {},
   "outputs": [],
   "source": [
    "## Exercise 2 : Edit the code above to find the ID for England vs. Sweden"
   ]
  },
  {
   "cell_type": "code",
   "execution_count": 14,
   "metadata": {},
   "outputs": [
    {
     "name": "stdout",
     "output_type": "stream",
     "text": [
      "England vs Sweden has id : 69301\n"
     ]
    }
   ],
   "source": [
    "#Now lets find a match we are interested in\n",
    "home_team_required =\"England\"\n",
    "away_team_required =\"Sweden\"\n",
    "\n",
    "#Find ID for the match\n",
    "for match in matches:\n",
    "    home_team_name=match['home_team']['home_team_name']\n",
    "    away_team_name=match['away_team']['away_team_name']\n",
    "    if (home_team_name==home_team_required) and (away_team_name==away_team_required):\n",
    "        match_id_required = match['match_id']\n",
    "print(home_team_required + ' vs ' + away_team_required + ' has id : ' + str(match_id_required))"
   ]
  },
  {
   "cell_type": "code",
   "execution_count": 15,
   "metadata": {},
   "outputs": [],
   "source": [
    "## Exercise 3 : Write new code to write out a list of just Sweden's results in the tournament."
   ]
  },
  {
   "cell_type": "code",
   "execution_count": 16,
   "metadata": {},
   "outputs": [
    {
     "name": "stdout",
     "output_type": "stream",
     "text": [
      "The match between Sweden and South Korea finished 1 : 0\n",
      "The match between Mexico and Sweden finished 0 : 3\n",
      "The match between Sweden and Switzerland finished 1 : 0\n",
      "The match between Sweden and England finished 0 : 2\n",
      "The match between Germany and Sweden finished 2 : 1\n"
     ]
    }
   ],
   "source": [
    "for match in men_matches:\n",
    "    home_team_name=match['home_team']['home_team_name']\n",
    "    away_team_name=match['away_team']['away_team_name']\n",
    "    if (home_team_name=='Sweden') or (away_team_name=='Sweden'):\n",
    "        home_score=match['home_score']\n",
    "        away_score=match['away_score']\n",
    "        describe_text = 'The match between ' + home_team_name + ' and ' + away_team_name\n",
    "        result_text = ' finished ' + str(home_score) +  ' : ' + str(away_score)\n",
    "        print(describe_text + result_text)"
   ]
  },
  {
   "cell_type": "code",
   "execution_count": null,
   "metadata": {},
   "outputs": [],
   "source": []
  }
 ],
 "metadata": {
  "interpreter": {
   "hash": "c7101ef4b34dd94cdfae34e8895084bfbdf7b072e0ad0aa0b23dd42cc453a76b"
  },
  "kernelspec": {
   "display_name": "Python 3.8.8 64-bit ('base': conda)",
   "name": "python3"
  },
  "language_info": {
   "codemirror_mode": {
    "name": "ipython",
    "version": 3
   },
   "file_extension": ".py",
   "mimetype": "text/x-python",
   "name": "python",
   "nbconvert_exporter": "python",
   "pygments_lexer": "ipython3",
   "version": "3.8.8"
  },
  "orig_nbformat": 2
 },
 "nbformat": 4,
 "nbformat_minor": 2
}
